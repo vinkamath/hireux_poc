{
 "cells": [
  {
   "cell_type": "markdown",
   "id": "43320940-7c64-48cb-812e-5dbd0135cf34",
   "metadata": {},
   "source": [
    "# Quick and dirty RAG implementation using LlamaIndex and OpenAI API"
   ]
  },
  {
   "cell_type": "markdown",
   "id": "d4e92151-ad41-4de8-95bc-45a61801039c",
   "metadata": {},
   "source": [
    "# Install packages"
   ]
  },
  {
   "cell_type": "code",
   "execution_count": null,
   "id": "5bd7b7fc-7a77-43fa-83db-95519f87eb5a",
   "metadata": {},
   "outputs": [],
   "source": [
    "!pip install llama-index"
   ]
  },
  {
   "cell_type": "code",
   "execution_count": 7,
   "id": "41b9e87e",
   "metadata": {},
   "outputs": [],
   "source": [
    "from llama_index.embeddings.openai import OpenAIEmbedding\n",
    "from llama_index.core.node_parser import SentenceSplitter\n",
    "from llama_index.llms.openai import OpenAI\n",
    "from llama_index.core import Settings\n",
    "\n",
    "Settings.llm = OpenAI(model=\"gpt-4o\")\n",
    "Settings.embed_model = OpenAIEmbedding(model=\"text-embedding-3-small\")\n",
    "Settings.node_parser = SentenceSplitter(chunk_size=512, chunk_overlap=20)\n",
    "Settings.num_output = 512\n",
    "Settings.context_window = 3900"
   ]
  },
  {
   "cell_type": "markdown",
   "id": "9db05c63-2a23-4302-b663-455c26cb9278",
   "metadata": {},
   "source": [
    "# Define documents used for RAG and create an index"
   ]
  },
  {
   "cell_type": "code",
   "execution_count": 31,
   "id": "00c4211d-e003-4a0e-9237-5afb88ab08be",
   "metadata": {},
   "outputs": [],
   "source": [
    "from llama_index.core import VectorStoreIndex, SimpleDirectoryReader\n",
    "documents = SimpleDirectoryReader(input_dir=\"data/input\", recursive=True).load_data()\n",
    "index = VectorStoreIndex.from_documents(documents) # Not being stored to a vectorDB\n",
    "query_engine = index.as_query_engine()"
   ]
  },
  {
   "cell_type": "markdown",
   "id": "2c2b3faa-d4bd-4927-ba41-b1acf9cacd8a",
   "metadata": {},
   "source": [
    "# Use the query engine to get answers based on provided documents"
   ]
  },
  {
   "cell_type": "code",
   "execution_count": null,
   "id": "868da937-b9cc-4bdb-8597-fb169effbb9a",
   "metadata": {},
   "outputs": [],
   "source": [
    "RAG_response = query_engine.query(\"Name some user research methodologies\")\n",
    "RAG_response"
   ]
  },
  {
   "cell_type": "code",
   "execution_count": null,
   "id": "e24ca789-3dc4-454e-a23d-3b3458f11b58",
   "metadata": {},
   "outputs": [],
   "source": [
    "RAG_response2 = query_engine.query(\"What do you know about Alex Khomutov?\")\n",
    "RAG_response2"
   ]
  },
  {
   "cell_type": "code",
   "execution_count": null,
   "id": "f2e09050",
   "metadata": {},
   "outputs": [],
   "source": [
    "RAG_response3 = query_engine.query(\"Has he worked on any automotive projects?\")\n",
    "RAG_response3\n"
   ]
  },
  {
   "cell_type": "markdown",
   "id": "8b3e02c5",
   "metadata": {},
   "source": [
    "## Create a Discord Bot to talk to the RAG"
   ]
  },
  {
   "cell_type": "code",
   "execution_count": 39,
   "id": "47991e48",
   "metadata": {},
   "outputs": [
    {
     "name": "stdout",
     "output_type": "stream",
     "text": [
      "Requirement already satisfied: discord.py in ./env/lib/python3.13/site-packages (2.4.0)\n",
      "Requirement already satisfied: asyncio in ./env/lib/python3.13/site-packages (3.4.3)\n",
      "Requirement already satisfied: aiohttp<4,>=3.7.4 in ./env/lib/python3.13/site-packages (from discord.py) (3.11.12)\n",
      "Requirement already satisfied: aiohappyeyeballs>=2.3.0 in ./env/lib/python3.13/site-packages (from aiohttp<4,>=3.7.4->discord.py) (2.4.6)\n",
      "Requirement already satisfied: aiosignal>=1.1.2 in ./env/lib/python3.13/site-packages (from aiohttp<4,>=3.7.4->discord.py) (1.3.2)\n",
      "Requirement already satisfied: attrs>=17.3.0 in ./env/lib/python3.13/site-packages (from aiohttp<4,>=3.7.4->discord.py) (25.1.0)\n",
      "Requirement already satisfied: frozenlist>=1.1.1 in ./env/lib/python3.13/site-packages (from aiohttp<4,>=3.7.4->discord.py) (1.5.0)\n",
      "Requirement already satisfied: multidict<7.0,>=4.5 in ./env/lib/python3.13/site-packages (from aiohttp<4,>=3.7.4->discord.py) (6.1.0)\n",
      "Requirement already satisfied: propcache>=0.2.0 in ./env/lib/python3.13/site-packages (from aiohttp<4,>=3.7.4->discord.py) (0.2.1)\n",
      "Requirement already satisfied: yarl<2.0,>=1.17.0 in ./env/lib/python3.13/site-packages (from aiohttp<4,>=3.7.4->discord.py) (1.18.3)\n",
      "Requirement already satisfied: idna>=2.0 in ./env/lib/python3.13/site-packages (from yarl<2.0,>=1.17.0->aiohttp<4,>=3.7.4->discord.py) (3.10)\n",
      "\n",
      "\u001b[1m[\u001b[0m\u001b[34;49mnotice\u001b[0m\u001b[1;39;49m]\u001b[0m\u001b[39;49m A new release of pip is available: \u001b[0m\u001b[31;49m24.3.1\u001b[0m\u001b[39;49m -> \u001b[0m\u001b[32;49m25.0.1\u001b[0m\n",
      "\u001b[1m[\u001b[0m\u001b[34;49mnotice\u001b[0m\u001b[1;39;49m]\u001b[0m\u001b[39;49m To update, run: \u001b[0m\u001b[32;49mpip install --upgrade pip\u001b[0m\n",
      "Requirement already satisfied: audioop-lts in ./env/lib/python3.13/site-packages (0.2.1)\n",
      "\n",
      "\u001b[1m[\u001b[0m\u001b[34;49mnotice\u001b[0m\u001b[1;39;49m]\u001b[0m\u001b[39;49m A new release of pip is available: \u001b[0m\u001b[31;49m24.3.1\u001b[0m\u001b[39;49m -> \u001b[0m\u001b[32;49m25.0.1\u001b[0m\n",
      "\u001b[1m[\u001b[0m\u001b[34;49mnotice\u001b[0m\u001b[1;39;49m]\u001b[0m\u001b[39;49m To update, run: \u001b[0m\u001b[32;49mpip install --upgrade pip\u001b[0m\n"
     ]
    }
   ],
   "source": [
    "!pip install discord.py asyncio\n",
    "!pip install audioop-lts"
   ]
  },
  {
   "cell_type": "markdown",
   "id": "91329ba2",
   "metadata": {},
   "source": [
    "### Import packages"
   ]
  },
  {
   "cell_type": "code",
   "execution_count": 41,
   "id": "12d2b6d5",
   "metadata": {},
   "outputs": [],
   "source": [
    "import asyncio\n",
    "import discord\n",
    "import dotenv\n",
    "import os"
   ]
  },
  {
   "cell_type": "code",
   "execution_count": 42,
   "id": "e7263664",
   "metadata": {},
   "outputs": [
    {
     "ename": "RuntimeError",
     "evalue": "asyncio.run() cannot be called from a running event loop",
     "output_type": "error",
     "traceback": [
      "\u001b[0;31m---------------------------------------------------------------------------\u001b[0m",
      "\u001b[0;31mRuntimeError\u001b[0m                              Traceback (most recent call last)",
      "Cell \u001b[0;32mIn[42], line 28\u001b[0m\n\u001b[1;32m     25\u001b[0m             \u001b[38;5;28;01mawait\u001b[39;00m message\u001b[38;5;241m.\u001b[39mchannel\u001b[38;5;241m.\u001b[39msend(\u001b[38;5;124mf\u001b[39m\u001b[38;5;124m\"\u001b[39m\u001b[38;5;124mAn error occurred: \u001b[39m\u001b[38;5;132;01m{\u001b[39;00me\u001b[38;5;132;01m}\u001b[39;00m\u001b[38;5;124m\"\u001b[39m)\n\u001b[1;32m     26\u001b[0m             \u001b[38;5;28mprint\u001b[39m(\u001b[38;5;124mf\u001b[39m\u001b[38;5;124m\"\u001b[39m\u001b[38;5;124mError during query processing: \u001b[39m\u001b[38;5;132;01m{\u001b[39;00me\u001b[38;5;132;01m}\u001b[39;00m\u001b[38;5;124m\"\u001b[39m)\n\u001b[0;32m---> 28\u001b[0m \u001b[43mclient\u001b[49m\u001b[38;5;241;43m.\u001b[39;49m\u001b[43mrun\u001b[49m\u001b[43m(\u001b[49m\u001b[43mDISCORD_TOKEN\u001b[49m\u001b[43m)\u001b[49m\n",
      "File \u001b[0;32m~/git/hireux_poc/env/lib/python3.13/site-packages/discord/client.py:869\u001b[0m, in \u001b[0;36mClient.run\u001b[0;34m(self, token, reconnect, log_handler, log_formatter, log_level, root_logger)\u001b[0m\n\u001b[1;32m    861\u001b[0m     utils\u001b[38;5;241m.\u001b[39msetup_logging(\n\u001b[1;32m    862\u001b[0m         handler\u001b[38;5;241m=\u001b[39mlog_handler,\n\u001b[1;32m    863\u001b[0m         formatter\u001b[38;5;241m=\u001b[39mlog_formatter,\n\u001b[1;32m    864\u001b[0m         level\u001b[38;5;241m=\u001b[39mlog_level,\n\u001b[1;32m    865\u001b[0m         root\u001b[38;5;241m=\u001b[39mroot_logger,\n\u001b[1;32m    866\u001b[0m     )\n\u001b[1;32m    868\u001b[0m \u001b[38;5;28;01mtry\u001b[39;00m:\n\u001b[0;32m--> 869\u001b[0m     \u001b[43masyncio\u001b[49m\u001b[38;5;241;43m.\u001b[39;49m\u001b[43mrun\u001b[49m\u001b[43m(\u001b[49m\u001b[43mrunner\u001b[49m\u001b[43m(\u001b[49m\u001b[43m)\u001b[49m\u001b[43m)\u001b[49m\n\u001b[1;32m    870\u001b[0m \u001b[38;5;28;01mexcept\u001b[39;00m \u001b[38;5;167;01mKeyboardInterrupt\u001b[39;00m:\n\u001b[1;32m    871\u001b[0m     \u001b[38;5;66;03m# nothing to do here\u001b[39;00m\n\u001b[1;32m    872\u001b[0m     \u001b[38;5;66;03m# `asyncio.run` handles the loop cleanup\u001b[39;00m\n\u001b[1;32m    873\u001b[0m     \u001b[38;5;66;03m# and `self.start` closes all sockets and the HTTPClient instance.\u001b[39;00m\n\u001b[1;32m    874\u001b[0m     \u001b[38;5;28;01mreturn\u001b[39;00m\n",
      "File \u001b[0;32m/opt/homebrew/Cellar/python@3.13/3.13.1/Frameworks/Python.framework/Versions/3.13/lib/python3.13/asyncio/runners.py:190\u001b[0m, in \u001b[0;36mrun\u001b[0;34m(main, debug, loop_factory)\u001b[0m\n\u001b[1;32m    161\u001b[0m \u001b[38;5;250m\u001b[39m\u001b[38;5;124;03m\"\"\"Execute the coroutine and return the result.\u001b[39;00m\n\u001b[1;32m    162\u001b[0m \n\u001b[1;32m    163\u001b[0m \u001b[38;5;124;03mThis function runs the passed coroutine, taking care of\u001b[39;00m\n\u001b[0;32m   (...)\u001b[0m\n\u001b[1;32m    186\u001b[0m \u001b[38;5;124;03m    asyncio.run(main())\u001b[39;00m\n\u001b[1;32m    187\u001b[0m \u001b[38;5;124;03m\"\"\"\u001b[39;00m\n\u001b[1;32m    188\u001b[0m \u001b[38;5;28;01mif\u001b[39;00m events\u001b[38;5;241m.\u001b[39m_get_running_loop() \u001b[38;5;129;01mis\u001b[39;00m \u001b[38;5;129;01mnot\u001b[39;00m \u001b[38;5;28;01mNone\u001b[39;00m:\n\u001b[1;32m    189\u001b[0m     \u001b[38;5;66;03m# fail fast with short traceback\u001b[39;00m\n\u001b[0;32m--> 190\u001b[0m     \u001b[38;5;28;01mraise\u001b[39;00m \u001b[38;5;167;01mRuntimeError\u001b[39;00m(\n\u001b[1;32m    191\u001b[0m         \u001b[38;5;124m\"\u001b[39m\u001b[38;5;124masyncio.run() cannot be called from a running event loop\u001b[39m\u001b[38;5;124m\"\u001b[39m)\n\u001b[1;32m    193\u001b[0m \u001b[38;5;28;01mwith\u001b[39;00m Runner(debug\u001b[38;5;241m=\u001b[39mdebug, loop_factory\u001b[38;5;241m=\u001b[39mloop_factory) \u001b[38;5;28;01mas\u001b[39;00m runner:\n\u001b[1;32m    194\u001b[0m     \u001b[38;5;28;01mreturn\u001b[39;00m runner\u001b[38;5;241m.\u001b[39mrun(main)\n",
      "\u001b[0;31mRuntimeError\u001b[0m: asyncio.run() cannot be called from a running event loop"
     ]
    }
   ],
   "source": [
    "\n",
    "dotenv.load_dotenv()\n",
    "DISCORD_TOKEN = os.getenv(\"DISCORD_TOKEN\")\n",
    "intents = discord.Intents.default()\n",
    "intents.message_content = True  # Required to read messages\n",
    "client = discord.Client(intents=intents)\n",
    "\n",
    "@client.event\n",
    "async def on_ready():\n",
    "    print(f'We have logged in as {client.user}')\n",
    "\n",
    "@client.event\n",
    "async def on_message(message):\n",
    "    if message.author == client.user:\n",
    "        return  # Ignore messages from the bot itself\n",
    "\n",
    "    if message.content.startswith(\"!rag\"):  # Or any other prefix you want to use\n",
    "        query = message.content[5:]  # Remove the \"!rag\" prefix\n",
    "        print(f\"Received query: {query}\")\n",
    "\n",
    "        try:\n",
    "            RAG_response = query_engine.query(query)\n",
    "            await message.channel.send(str(RAG_response))  # Send the response back to Discord\n",
    "\n",
    "        except Exception as e:\n",
    "            await message.channel.send(f\"An error occurred: {e}\")\n",
    "            print(f\"Error during query processing: {e}\")\n",
    "\n",
    "async def main():\n",
    "    await client.start(DISCORD_TOKEN) \n",
    "\n",
    "# Run the bot in a separate task, so the notebook doesn't block\n",
    "asyncio.create_task(main())"
   ]
  }
 ],
 "metadata": {
  "kernelspec": {
   "display_name": "Python (hireux-poc)",
   "language": "python",
   "name": "hireux-poc"
  },
  "language_info": {
   "codemirror_mode": {
    "name": "ipython",
    "version": 3
   },
   "file_extension": ".py",
   "mimetype": "text/x-python",
   "name": "python",
   "nbconvert_exporter": "python",
   "pygments_lexer": "ipython3",
   "version": "3.13.1"
  }
 },
 "nbformat": 4,
 "nbformat_minor": 5
}
