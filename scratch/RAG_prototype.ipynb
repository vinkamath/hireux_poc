{
 "cells": [
  {
   "cell_type": "markdown",
   "id": "43320940-7c64-48cb-812e-5dbd0135cf34",
   "metadata": {},
   "source": [
    "# Quick and dirty RAG implementation using LlamaIndex and OpenAI API"
   ]
  },
  {
   "cell_type": "markdown",
   "id": "d4e92151-ad41-4de8-95bc-45a61801039c",
   "metadata": {},
   "source": [
    "# Install packages"
   ]
  },
  {
   "cell_type": "code",
   "execution_count": null,
   "id": "5bd7b7fc-7a77-43fa-83db-95519f87eb5a",
   "metadata": {},
   "outputs": [],
   "source": [
    "!pip install llama-index"
   ]
  },
  {
   "cell_type": "code",
   "execution_count": 7,
   "id": "41b9e87e",
   "metadata": {},
   "outputs": [],
   "source": [
    "from llama_index.embeddings.openai import OpenAIEmbedding\n",
    "from llama_index.core.node_parser import SentenceSplitter\n",
    "from llama_index.llms.openai import OpenAI\n",
    "from llama_index.core import Settings\n",
    "\n",
    "Settings.llm = OpenAI(model=\"gpt-4o\")\n",
    "Settings.embed_model = OpenAIEmbedding(model=\"text-embedding-3-small\")\n",
    "Settings.node_parser = SentenceSplitter(chunk_size=512, chunk_overlap=20)\n",
    "Settings.num_output = 512\n",
    "Settings.context_window = 3900"
   ]
  },
  {
   "cell_type": "markdown",
   "id": "9db05c63-2a23-4302-b663-455c26cb9278",
   "metadata": {},
   "source": [
    "# Define documents used for RAG and create an index"
   ]
  },
  {
   "cell_type": "code",
   "execution_count": 31,
   "id": "00c4211d-e003-4a0e-9237-5afb88ab08be",
   "metadata": {},
   "outputs": [],
   "source": [
    "from llama_index.core import VectorStoreIndex, SimpleDirectoryReader\n",
    "documents = SimpleDirectoryReader(input_dir=\"data/input\", recursive=True).load_data()\n",
    "index = VectorStoreIndex.from_documents(documents) # Not being stored to a vectorDB\n",
    "query_engine = index.as_query_engine()"
   ]
  },
  {
   "cell_type": "markdown",
   "id": "2c2b3faa-d4bd-4927-ba41-b1acf9cacd8a",
   "metadata": {},
   "source": [
    "# Use the query engine to get answers based on provided documents"
   ]
  },
  {
   "cell_type": "code",
   "execution_count": null,
   "id": "868da937-b9cc-4bdb-8597-fb169effbb9a",
   "metadata": {},
   "outputs": [],
   "source": [
    "RAG_response = query_engine.query(\"Name some user research methodologies\")\n",
    "RAG_response"
   ]
  },
  {
   "cell_type": "code",
   "execution_count": null,
   "id": "e24ca789-3dc4-454e-a23d-3b3458f11b58",
   "metadata": {},
   "outputs": [],
   "source": [
    "RAG_response2 = query_engine.query(\"What do you know about Alex Khomutov?\")\n",
    "RAG_response2"
   ]
  },
  {
   "cell_type": "code",
   "execution_count": null,
   "id": "f2e09050",
   "metadata": {},
   "outputs": [],
   "source": [
    "RAG_response3 = query_engine.query(\"Has he worked on any automotive projects?\")\n",
    "RAG_response3\n"
   ]
  },
  {
   "cell_type": "markdown",
   "id": "8b3e02c5",
   "metadata": {},
   "source": [
    "## Create a Discord Bot to talk to the RAG"
   ]
  },
  {
   "cell_type": "code",
   "execution_count": 39,
   "id": "47991e48",
   "metadata": {},
   "outputs": [],
   "source": [
    "!pip install discord.py asyncio\n",
    "!pip install audioop-lts"
   ]
  },
  {
   "cell_type": "markdown",
   "id": "91329ba2",
   "metadata": {},
   "source": [
    "### Import packages"
   ]
  },
  {
   "cell_type": "code",
   "execution_count": 41,
   "id": "12d2b6d5",
   "metadata": {},
   "outputs": [],
   "source": [
    "import asyncio\n",
    "import discord\n",
    "import dotenv\n",
    "import os"
   ]
  },
  {
   "cell_type": "code",
   "execution_count": 42,
   "id": "e7263664",
   "metadata": {},
   "outputs": [],
   "source": [
    "\n",
    "dotenv.load_dotenv()\n",
    "DISCORD_TOKEN = os.getenv(\"DISCORD_TOKEN\")\n",
    "intents = discord.Intents.default()\n",
    "intents.message_content = True  # Required to read messages\n",
    "client = discord.Client(intents=intents)\n",
    "\n",
    "@client.event\n",
    "async def on_ready():\n",
    "    print(f'We have logged in as {client.user}')\n",
    "\n",
    "@client.event\n",
    "async def on_message(message):\n",
    "    if message.author == client.user:\n",
    "        return  # Ignore messages from the bot itself\n",
    "\n",
    "    if message.content.startswith(\"!rag\"):  # Or any other prefix you want to use\n",
    "        query = message.content[5:]  # Remove the \"!rag\" prefix\n",
    "        print(f\"Received query: {query}\")\n",
    "\n",
    "        try:\n",
    "            RAG_response = query_engine.query(query)\n",
    "            await message.channel.send(str(RAG_response))  # Send the response back to Discord\n",
    "\n",
    "        except Exception as e:\n",
    "            await message.channel.send(f\"An error occurred: {e}\")\n",
    "            print(f\"Error during query processing: {e}\")\n",
    "\n",
    "async def main():\n",
    "    await client.start(DISCORD_TOKEN) \n",
    "\n",
    "# Run the bot in a separate task, so the notebook doesn't block\n",
    "asyncio.create_task(main())"
   ]
  }
 ],
 "metadata": {
  "kernelspec": {
   "display_name": "Python (hireux-poc)",
   "language": "python",
   "name": "hireux-poc"
  }
 },
 "nbformat": 4,
 "nbformat_minor": 5
}
